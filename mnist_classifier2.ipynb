{
 "cells": [
  {
   "cell_type": "code",
   "execution_count": 14,
   "metadata": {},
   "outputs": [],
   "source": [
    "#importing libraries\n",
    "\n",
    "import numpy as np\n",
    "from mnist import MNIST\n",
    "from matplotlib import pyplot as plt\n",
    "np.random.seed(0)"
   ]
  },
  {
   "cell_type": "code",
   "execution_count": 15,
   "metadata": {},
   "outputs": [],
   "source": [
    "def load_MNIST_data():\n",
    "    mnist = MNIST('./dataset/MNIST')\n",
    "    x_train, y_train = mnist.load_training() #60000 samples\n",
    "    x_test, y_test = mnist.load_testing()    #10000 samples\n",
    "    # converting the data to numpy.ndarray format\n",
    "    x_train = np.asarray(x_train).astype(np.float32)\n",
    "    y_train = np.asarray(y_train).astype(np.int32)\n",
    "    x_test = np.asarray(x_test).astype(np.float32)\n",
    "    y_test = np.asarray(y_test).astype(np.int32)\n",
    "    y_train = y_train.reshape(y_train.shape[0], 1)\n",
    "    y_test = y_test.reshape(y_test.shape[0], 1)\n",
    "    x_train = x_train.T\n",
    "    y_train = y_train.T\n",
    "    x_test = x_test.T\n",
    "    y_test = y_test.T\n",
    "    x_train = x_train / 255\n",
    "    x_test = x_test / 255\n",
    "    return x_train, y_train , x_test, y_test"
   ]
  },
  {
   "cell_type": "code",
   "execution_count": 16,
   "metadata": {},
   "outputs": [],
   "source": [
    "x_train, y_train, x_test, y_test = load_MNIST_data()"
   ]
  },
  {
   "cell_type": "code",
   "execution_count": 17,
   "metadata": {},
   "outputs": [],
   "source": [
    "def separate(y_train,y_test):\n",
    "    y_new_train = np.zeros((10,60000))\n",
    "    for i in range (0,60000):\n",
    "        y_new_train[y_train[0, i],i] += 1\n",
    "\n",
    "    y_new_test = np.zeros((10,10000))\n",
    "\n",
    "    for i in range (0,10000):\n",
    "        y_new_test[y_test[0, i],i] += 1\n",
    "    return y_new_train, y_new_test"
   ]
  },
  {
   "cell_type": "code",
   "execution_count": 18,
   "metadata": {},
   "outputs": [],
   "source": [
    "y_train, y_test = separate(y_train, y_test)"
   ]
  },
  {
   "cell_type": "code",
   "execution_count": 50,
   "metadata": {},
   "outputs": [],
   "source": [
    "def sigmoid(X):\n",
    "    return 1/(1+np.exp(-X)) , X\n",
    "\n",
    "def dsigmoid(Z):\n",
    "    ds=(np.exp(-Z))/(np.exp(-Z)+1)**2\n",
    "    return ds\n",
    "\n",
    "def relu(X):\n",
    "    return np.maximum(X,0.0), X\n",
    "\n",
    "def drelu(X):\n",
    "    S=(1*(X>0))\n",
    "    return S\n",
    "\n",
    "def sigmoid_backward(dA,Z):\n",
    "    return np.multiply(dA,dsigmoid(Z))\n",
    "\n",
    "def relu_backward(dA,Z):\n",
    "    return np.multiply(dA,drelu(Z))\n",
    "    \n",
    "def softmax(Z):\n",
    "    S=(Z-Z.max())\n",
    "    X=np.exp(S)\n",
    "    sum=np.sum(X,0)\n",
    "    val = np.divide(X,sum)\n",
    "    \n",
    "    return val, Z\n",
    "\n",
    "def dsoftmax(Z):\n",
    "    intermediate1 = - Z[..., None] * Z[:, None, :]\n",
    "    iy, ix = np.diag_indices_from(intermediate1[0])\n",
    "    intermediate1[:, iy, ix] = Z * (1. - Z)\n",
    "    intermediate1 = intermediate1.sum(axis=1)\n",
    "    return intermediate1\n",
    "\n",
    "def softmax_backward(dA, Z):\n",
    "    print(dA.shape, Z.shape)\n",
    "    return np.multiply(dA,dsoftmax(Z))\n"
   ]
  },
  {
   "cell_type": "code",
   "execution_count": 51,
   "metadata": {},
   "outputs": [],
   "source": [
    "def initialize_parameters_deep(layer_dims):\n",
    "    \n",
    "    parameters = {}\n",
    "    L = len(layer_dims)\n",
    "\n",
    "    for l in range(1, L):\n",
    "\n",
    "        parameters['W' + str(l)] = np.random.randn(layer_dims[l], layer_dims[l - 1]) * 0.001\n",
    "        parameters['b' + str(l)] = np.zeros((layer_dims[l], 1))\n",
    "      \n",
    "        assert(parameters['W' + str(l)].shape == (layer_dims[l], layer_dims[l - 1]))\n",
    "        assert(parameters['b' + str(l)].shape == (layer_dims[l], 1))\n",
    "\n",
    "        \n",
    "    return parameters"
   ]
  },
  {
   "cell_type": "code",
   "execution_count": 52,
   "metadata": {},
   "outputs": [],
   "source": [
    "def linear_forward(A_prev, W, b):\n",
    "\n",
    "    Z = (np.dot(W,A_prev) + b)\n",
    "\n",
    "    cache = (A_prev, W, b)\n",
    "    \n",
    "    return Z, cache"
   ]
  },
  {
   "cell_type": "code",
   "execution_count": 53,
   "metadata": {},
   "outputs": [],
   "source": [
    "def linear_activation_forward(A_prev, W, b, activation):\n",
    "    Z, linear_cache = linear_forward(A_prev, W, b)\n",
    "    \n",
    "    if activation == \"sigmoid\":\n",
    "        A, activation_cache = sigmoid(Z)\n",
    "    elif activation == \"relu\":\n",
    "        A, activation_cache = relu(Z)\n",
    "    elif activation == \"softmax\":\n",
    "        A, activation_cache = softmax(Z)\n",
    "        \n",
    "\n",
    "    cache = (linear_cache, activation_cache)\n",
    "\n",
    "    return A, cache"
   ]
  },
  {
   "cell_type": "code",
   "execution_count": 54,
   "metadata": {},
   "outputs": [],
   "source": [
    "def L_model_forward(X, parameters):\n",
    "    \n",
    "    caches = []\n",
    "    A = X\n",
    "    L = len(parameters) // 2                  # number of layers in the neural network\n",
    "\n",
    "    for l in range(1, L):\n",
    "        A_prev = A \n",
    "\n",
    "        A, cache = linear_activation_forward(A_prev, parameters[\"W\" + str(l)] , parameters[\"b\" + str(l)] , \"relu\")\n",
    "        caches.append(cache)\n",
    "\n",
    "    AL, cache = linear_activation_forward(A, parameters[\"W\" + str(L)] , parameters[\"b\" + str(L)] , \"softmax\")\n",
    "    caches.append(cache)\n",
    "\n",
    "          \n",
    "    return AL, caches"
   ]
  },
  {
   "cell_type": "code",
   "execution_count": 55,
   "metadata": {},
   "outputs": [],
   "source": [
    "def compute_cost(AL, Y):\n",
    "\n",
    "    m = Y.shape[1]\n",
    "\n",
    "    loss=-np.multiply(Y,np.log(AL + 0.000000000001))\n",
    "    cost=(np.sum(loss)/m)\n",
    "\n",
    "    cost = np.squeeze(cost)   \n",
    "    \n",
    "    return cost"
   ]
  },
  {
   "cell_type": "code",
   "execution_count": 56,
   "metadata": {},
   "outputs": [],
   "source": [
    "def linear_backward(dZ, cache):\n",
    "\n",
    "    A_prev, W, b = cache\n",
    "    m = A_prev.shape[1]\n",
    "\n",
    "    dW = (1 / m) * np.dot(dZ, A_prev.T)\n",
    "    db = (1 / m) * (np.sum(dZ, axis = 1, keepdims = True))\n",
    "    dA_prev = np.dot(W.T, dZ)\n",
    "\n",
    "    return dA_prev, dW, db"
   ]
  },
  {
   "cell_type": "code",
   "execution_count": 57,
   "metadata": {},
   "outputs": [],
   "source": [
    "def linear_activation_backward(dA, cache, activation):\n",
    "\n",
    "    linear_cache, activation_cache = cache\n",
    "    \n",
    "    if activation == \"relu\":\n",
    "\n",
    "        dZ = relu_backward(dA, activation_cache)\n",
    "        dA_prev, dW, db = linear_backward(dZ, linear_cache)\n",
    "\n",
    "    elif activation == \"sigmoid\":\n",
    "\n",
    "        dZ = sigmoid_backward(dA, activation_cache)\n",
    "        dA_prev, dW, db = linear_backward(dZ, linear_cache)\n",
    "\n",
    "    elif activation == \"softmax\":\n",
    "\n",
    "        dZ = sigmoid_backward(dA, activation_cache)\n",
    "        dA_prev, dW, db = linear_backward(dZ, linear_cache)\n",
    "\n",
    "    return dA_prev, dW, db"
   ]
  },
  {
   "cell_type": "code",
   "execution_count": 58,
   "metadata": {},
   "outputs": [],
   "source": [
    "def L_model_backward(AL, Y, caches):\n",
    "\n",
    "    grads = {}\n",
    "    L = len(caches) # the number of layers\n",
    "    m = AL.shape[1]\n",
    "    Y = Y.reshape(AL.shape) # after this line, Y is the same shape as AL\n",
    "    \n",
    "    dAL=AL-Y\n",
    "\n",
    "    current_cache = caches[L - 1]\n",
    "    dA_prev_temp, dW_temp,db_temp = linear_activation_backward(dAL, current_cache, \"softmax\")\n",
    "    grads[\"dA\" + str(L-1)] = dA_prev_temp\n",
    "    grads[\"dW\" + str(L)] = dW_temp\n",
    "    grads[\"db\" + str(L)] = db_temp\n",
    "    \n",
    "\n",
    "    for l in reversed(range(L-1)):\n",
    "\n",
    "        current_cache = caches[l]\n",
    "        dA_prev_temp, dW_temp, db_temp = linear_activation_backward(grads[\"dA\" + str(l + 1)], current_cache, \"relu\")\n",
    "        grads[\"dA\" + str(l)] = dA_prev_temp\n",
    "        grads[\"dW\" + str(l + 1)] = dW_temp\n",
    "        grads[\"db\" + str(l + 1)] = db_temp\n",
    "\n",
    "    \n",
    "    return grads"
   ]
  },
  {
   "cell_type": "code",
   "execution_count": 59,
   "metadata": {},
   "outputs": [],
   "source": [
    "def update_parameters(parameters, grads, learning_rate):\n",
    "\n",
    "    L = len(parameters) // 2 # number of layers in the neural network\n",
    "\n",
    "    for l in range(L):\n",
    "\n",
    "        parameters[\"W\" + str(l+1)] = parameters[\"W\" + str(l+1)] - learning_rate * grads[\"dW\" + str(l+1)]\n",
    "        parameters[\"b\" + str(l+1)] = parameters[\"b\" + str(l+1)] - learning_rate * grads[\"db\" + str(l+1)]\n",
    "\n",
    "    return parameters"
   ]
  },
  {
   "cell_type": "code",
   "execution_count": 60,
   "metadata": {},
   "outputs": [],
   "source": [
    "def L_layer_model(X, Y, layers_dims, learning_rate = 0.0075, num_iterations = 3000, print_cost=False):\n",
    "\n",
    "    costs = []\n",
    "\n",
    "    parameters = initialize_parameters_deep(layers_dims)\n",
    "\n",
    "    for i in range(0, num_iterations):\n",
    "\n",
    "        AL, cache = L_model_forward(X, parameters)\n",
    "\n",
    "        cost = compute_cost(AL, Y)\n",
    "\n",
    "        grads = L_model_backward(AL, Y, cache)\n",
    "\n",
    "        paramters = update_parameters(parameters, grads, learning_rate)\n",
    "\n",
    "        if print_cost and i % 100 == 0 or i == num_iterations - 1:\n",
    "            print(\"Cost after iteration {}: {}\".format(i, np.squeeze(cost)))\n",
    "        if i % 100 == 0 or i == num_iterations:\n",
    "            costs.append(cost)\n",
    "\n",
    "    plt.plot(np.squeeze(costs))\n",
    "    plt.ylabel('cost')\n",
    "    plt.xlabel('iterations (per tens)')\n",
    "    plt.title(\"Learning rate =\" + str(learning_rate))\n",
    "    plt.show()\n",
    "    \n",
    "    return parameters, costs, AL"
   ]
  },
  {
   "cell_type": "code",
   "execution_count": 61,
   "metadata": {},
   "outputs": [],
   "source": [
    "def print_shape(df):\n",
    "    for f in df:\n",
    "        print(f.shape)"
   ]
  },
  {
   "cell_type": "code",
   "execution_count": 78,
   "metadata": {},
   "outputs": [
    {
     "name": "stdout",
     "output_type": "stream",
     "text": [
      "Cost after iteration 0: 2.30258509297475\n",
      "Cost after iteration 100: 2.3023277648383424\n",
      "Cost after iteration 200: 2.3020830146424744\n",
      "Cost after iteration 300: 2.301850251964298\n",
      "Cost after iteration 400: 2.301628912081444\n",
      "Cost after iteration 500: 2.301418454994926\n",
      "Cost after iteration 600: 2.3012183644962243\n",
      "Cost after iteration 700: 2.3010281472676484\n",
      "Cost after iteration 800: 2.3008473319921627\n",
      "Cost after iteration 900: 2.30067546849767\n",
      "Cost after iteration 1000: 2.3005121269184805\n",
      "Cost after iteration 1100: 2.300356896882754\n",
      "Cost after iteration 1200: 2.3002093867239033\n",
      "Cost after iteration 1300: 2.3000692227183714\n",
      "Cost after iteration 1400: 2.2999360483427083\n",
      "Cost after iteration 1500: 2.299809523556846\n",
      "Cost after iteration 1600: 2.2996893241111493\n",
      "Cost after iteration 1700: 2.299575140878316\n",
      "Cost after iteration 1800: 2.299466679204976\n",
      "Cost after iteration 1900: 2.2993636582888364\n",
      "Cost after iteration 2000: 2.299265810576579\n",
      "Cost after iteration 2100: 2.299172881184685\n",
      "Cost after iteration 2200: 2.299084627341625\n",
      "Cost after iteration 2300: 2.2990008178503833\n",
      "Cost after iteration 2400: 2.298921232572212\n",
      "Cost after iteration 2500: 2.2988456619302813\n",
      "Cost after iteration 2600: 2.2987739064328756\n",
      "Cost after iteration 2700: 2.298705776215341\n",
      "Cost after iteration 2800: 2.2986410906007047\n",
      "Cost after iteration 2900: 2.2985796776781395\n",
      "Cost after iteration 2999: 2.2985219420636316\n"
     ]
    },
    {
     "data": {
      "image/png": "[encoded data removed]",
      "text/plain": [
       "<Figure size 432x288 with 1 Axes>"
      ]
     },
     "metadata": {
      "needs_background": "light"
     },
     "output_type": "display_data"
    }
   ],
   "source": [
    "layers_dims = [784,13,21, 15,10]\n",
    "x, y = x_train[0:784, 0:1024], y_train[0:10,0:1024]\n",
    "# print_shape([x, y,x_train,y_train ])\n",
    "Parameters, Cost, yhat = L_layer_model(x, y, layers_dims, learning_rate = 0.01, num_iterations = 3000, print_cost=True)"
   ]
  },
  {
   "cell_type": "code",
   "execution_count": 82,
   "metadata": {},
   "outputs": [],
   "source": [
    "def predict(parameters, X):\n",
    "    \"\"\"\n",
    "    Using the learned parameters, predicts a class for each example in X\n",
    "    \n",
    "    Arguments:\n",
    "    parameters -- python dictionary containing your parameters \n",
    "    X -- input data of size (n_x, m)\n",
    "    \n",
    "    Returns\n",
    "    predictions -- vector of predictions of our model (red: 0 / blue: 1)\n",
    "    \"\"\"\n",
    "    \n",
    "    # Computes probabilities using forward propagation, and classifies to 0/1 using 0.5 as the threshold.\n",
    "    #(≈ 2 lines of code)\n",
    "    # A2, cache = ...\n",
    "    # predictions = ...\n",
    "    # YOUR CODE STARTS HERE\n",
    "    yhat, cache = L_model_forward(X, parameters)\n",
    "    predictions = (yhat > 0.5)\n",
    "    \n",
    "    \n",
    "    # YOUR CODE ENDS HERE\n",
    "    \n",
    "    return predictions\n"
   ]
  },
  {
   "cell_type": "code",
   "execution_count": 83,
   "metadata": {},
   "outputs": [],
   "source": [
    "def accuracy_calculator(prediction, Yhat):\n",
    "    diff = prediction - Yhat\n",
    "    count = np.count_nonzero(diff)\n",
    "    total = prediction.shape[0] * prediction.shape[1]\n",
    "    percentage = 100 - (count / total * 100)\n",
    "    print(\"accuracy from accuracy calculator =\" + str(percentage) + \"%\")\n",
    "    return percentage\n",
    "    \n",
    "    "
   ]
  },
  {
   "cell_type": "code",
   "execution_count": 84,
   "metadata": {},
   "outputs": [],
   "source": [
    "def accuracy(Y_predict,Y_label):\n",
    "  m=Y_label.shape[1]\n",
    "  truee=0\n",
    "  Y_p=np.zeros((10,m))\n",
    "\n",
    "  for i in  range(m):\n",
    "    max_index=np.argmax(Y_predict[:,i:i+1],axis=0)\n",
    "    Y_p[max_index,i]=1.0\n",
    "    if (np.array_equal(Y_p[:,i:i+1],Y_label[:,i:i+1])):\n",
    "      truee+=1\n",
    "\n",
    "  print(\"accuracy: \",(truee/m)*100)"
   ]
  },
  {
   "cell_type": "code",
   "execution_count": 85,
   "metadata": {},
   "outputs": [
    {
     "name": "stdout",
     "output_type": "stream",
     "text": [
      "Training accuracy:\n",
      "accuracy from accuracy calculator =90.0%\n",
      "accuracy:  9.871666666666666\n",
      "train accuracy: 90.0 %\n",
      "testing accuracy\n",
      "accuracy from accuracy calculator =90.0%\n",
      "test accuracy: 90.0 %\n"
     ]
    }
   ],
   "source": [
    "predictions = predict(Parameters, x_train)\n",
    "print(\"Training accuracy:\")\n",
    "accuracy_calculator(predictions, y_train)\n",
    "accuracy(predictions, y_train)\n",
    "print(\"train accuracy: {} %\".format(100 - np.mean(np.abs(predictions - y_train)) * 100))\n",
    "predictions = predict(Parameters, x_test)\n",
    "print(\"testing accuracy\")\n",
    "accuracy_calculator(predictions, y_test)\n",
    "print(\"test accuracy: {} %\".format(100 - np.mean(np.abs(predictions - y_test)) * 100))"
   ]
  },
  {
   "cell_type": "code",
   "execution_count": null,
   "metadata": {},
   "outputs": [],
   "source": []
  }
 ],
 "metadata": {
  "interpreter": {
   "hash": "cfcfbbd76e88e95dc35e2ca9edf0c1e882d0553cc29bc4cac8c0f4eabeb0ecb9"
  },
  "kernelspec": {
   "display_name": "Python 3.10.1 64-bit",
   "language": "python",
   "name": "python3"
  },
  "language_info": {
   "codemirror_mode": {
    "name": "ipython",
    "version": 3
   },
   "file_extension": ".py",
   "mimetype": "text/x-python",
   "name": "python",
   "nbconvert_exporter": "python",
   "pygments_lexer": "ipython3",
   "version": "3.10.1"
  },
  "orig_nbformat": 4
 },
 "nbformat": 4,
 "nbformat_minor": 2
}
