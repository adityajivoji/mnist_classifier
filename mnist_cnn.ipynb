{
  "nbformat": 4,
  "nbformat_minor": 0,
  "metadata": {
    "colab": {
      "name": "mnist_cnn.ipynb",
      "provenance": [],
      "authorship_tag": "ABX9TyMNSqpjm0Tc8oz838rLqrZ7",
      "include_colab_link": true
    },
    "kernelspec": {
      "name": "python3",
      "display_name": "Python 3"
    },
    "language_info": {
      "name": "python"
    },
    "accelerator": "GPU"
  },
  "cells": [
    {
      "cell_type": "markdown",
      "metadata": {
        "id": "view-in-github",
        "colab_type": "text"
      },
      "source": [
        "<a href=\"https://colab.research.google.com/github/adityajivoji/mnist_classifier/blob/main/mnist_cnn.ipynb\" target=\"_parent\"><img src=\"https://colab.research.google.com/assets/colab-badge.svg\" alt=\"Open In Colab\"/></a>"
      ]
    },
    {
      "cell_type": "code",
      "execution_count": 90,
      "metadata": {
        "id": "JEbHBKETzRoe"
      },
      "outputs": [],
      "source": [
        "# Importing Libraries\n",
        "import torch\n",
        "import numpy as np\n",
        "import torchvision\n",
        "from torch.utils.data import DataLoader\n",
        "from torch import nn\n",
        "import torchvision.datasets as datasets\n",
        "import torchvision.transforms as transforms\n",
        "from torch import optim\n",
        "from torch.nn import functional as F"
      ]
    },
    {
      "cell_type": "code",
      "source": [
        "device = torch.device(\"cuda\" if torch.cuda.is_available() else \"cpu\") # checking device type"
      ],
      "metadata": {
        "id": "VzrZeA78E-Gv"
      },
      "execution_count": 91,
      "outputs": []
    },
    {
      "cell_type": "code",
      "source": [
        "# Convolutional Neural Network\n",
        "class cnn(nn.Module):\n",
        "    def __init__(self, in_channels, num_classes):\n",
        "        super(cnn, self).__init__()\n",
        "        self.conv1 = nn.Conv2d(1, 8, 5, padding= 2)\n",
        "        self.pool = nn.MaxPool2d(2, 2)\n",
        "        self.conv2 = nn.Conv2d(8, 16, 5, padding=2)\n",
        "        self.FC1 = nn.Linear(16 * 7 * 7, 300) # image of size 28 * 28 are reduced to 7 * 7 by two pool operations of size (2,2)\n",
        "        self.FC2 = nn.Linear(300, 112)\n",
        "        self.FC3 = nn.Linear(112, 120)\n",
        "        self.FC4 = nn.Linear(120, 10) # Final Layer\n",
        "\n",
        "    def forward(self, x):\n",
        "        x = self.pool(F.relu(self.conv1(x)))\n",
        "        x = self.pool(F.relu(self.conv2(x)))\n",
        "        x = torch.flatten(x, 1)\n",
        "        x = F.relu(self.FC1(x))\n",
        "        x = F.relu(self.FC2(x))\n",
        "        x = F.relu(self.FC3(x))\n",
        "        x = self.FC4(x)\n",
        "        return x"
      ],
      "metadata": {
        "id": "1q3-UBEmCwan"
      },
      "execution_count": 92,
      "outputs": []
    },
    {
      "cell_type": "code",
      "source": [
        "in_channel = 1\n",
        "num_classes = 10\n",
        "learning_rate = 0.001\n",
        "batch_size = 64\n",
        "num_epoch = 3"
      ],
      "metadata": {
        "id": "-dHoNtFpCyoS"
      },
      "execution_count": 93,
      "outputs": []
    },
    {
      "cell_type": "code",
      "source": [
        "train_dataset = datasets.MNIST(root = '.', train= True, transform = transforms.ToTensor(), download = True)\n",
        "train_loader = DataLoader(dataset = train_dataset, batch_size = batch_size, shuffle = True)\n",
        "test_dataset = datasets.MNIST(root = '.', train= False, transform = transforms.ToTensor(), download = True)\n",
        "test_loader = DataLoader(dataset = test_dataset, batch_size = batch_size, shuffle = True)"
      ],
      "metadata": {
        "id": "YvwYrOVaC0T9"
      },
      "execution_count": 94,
      "outputs": []
    },
    {
      "cell_type": "code",
      "source": [
        "model = cnn(in_channels, num_classes).to(device)\n",
        "criterion = nn.CrossEntropyLoss()\n",
        "optimizer = optim.Adam(model.parameters(), lr=learning_rate)"
      ],
      "metadata": {
        "id": "TQ7vkIJpC2bd"
      },
      "execution_count": 95,
      "outputs": []
    },
    {
      "cell_type": "code",
      "source": [
        "for epoch in range(num_epoch): # number of iterations\n",
        "    for _, (data, targets) in enumerate(train_loader , 0): # one min-batch goes through each iteration of size 64\n",
        "        # Converting to acceptable format\n",
        "        data = data.to(device=device)\n",
        "        targets = targets.to(device=device)\n",
        "        output = model(data)\n",
        "        loss = criterion(output, targets)\n",
        "        optimizer.zero_grad()\n",
        "        loss.backward()\n",
        "        optimizer.step()\n"
      ],
      "metadata": {
        "id": "iMV9jDJRC4qr"
      },
      "execution_count": 96,
      "outputs": []
    },
    {
      "cell_type": "code",
      "source": [
        "def check_accuracy(loader, model):\n",
        "    num_correct = 0\n",
        "    num_samples = 0\n",
        "    model.eval()\n",
        "    with torch.no_grad():\n",
        "        for x, y in loader:\n",
        "            x = x.to(device = device)\n",
        "            y = y.to(device = device)\n",
        "            scores = model(x)\n",
        "            _, predictions = scores.max(1)\n",
        "            num_correct += (predictions == y).sum()\n",
        "            num_samples += predictions.size(0)\n",
        "        \n",
        "    model.train()\n",
        "    return num_correct/num_samples * 100\n"
      ],
      "metadata": {
        "id": "P-_BFpB-7B4H"
      },
      "execution_count": 97,
      "outputs": []
    },
    {
      "cell_type": "code",
      "source": [
        "training_accuracy = check_accuracy(train_loader, model)\n",
        "testing_accuracy = check_accuracy(test_loader, model)\n",
        "print(f\"Training Accuracy: {training_accuracy}\")\n",
        "print(f\"Testing Accuracy: {testing_accuracy}\")\n"
      ],
      "metadata": {
        "colab": {
          "base_uri": "https://localhost:8080/"
        },
        "id": "gqmZ41UhC8Em",
        "outputId": "6c54fdde-3e16-450f-f60c-5011de8bd2cc"
      },
      "execution_count": 98,
      "outputs": [
        {
          "output_type": "stream",
          "name": "stdout",
          "text": [
            "Training Accuracy: 99.1116714477539\n",
            "Testing Accuracy: 98.8699951171875\n"
          ]
        }
      ]
    }
  ]
}